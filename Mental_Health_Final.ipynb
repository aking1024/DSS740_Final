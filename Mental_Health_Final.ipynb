{
 "cells": [
  {
   "cell_type": "markdown",
   "id": "07254e12",
   "metadata": {},
   "source": [
    "<h1>DSS 740 - Final</h1>\n",
    "<h2>Jessica Gobeil,Adam King, and David Kratz</h2>\n"
   ]
  },
  {
   "cell_type": "markdown",
   "id": "2f939ca3",
   "metadata": {},
   "source": []
  }
 ],
 "metadata": {
  "language_info": {
   "name": "python"
  }
 },
 "nbformat": 4,
 "nbformat_minor": 5
}
